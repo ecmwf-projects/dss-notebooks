{
 "cells": [
  {
   "cell_type": "markdown",
   "id": "adab3299",
   "metadata": {},
   "source": [
    "# The DSS Jupyter Form"
   ]
  },
  {
   "cell_type": "markdown",
   "id": "a8754a26",
   "metadata": {},
   "source": [
    "Please execute the box below to create the universal download form. You can then make a selection and then request the data by exectuing the code cell below that.\n",
    "\n",
    "<div class=\"alert alert-block alert-warning\">\n",
    "<b>Prototype:</b> This is using a very new package which is not yet fully supported by ECMWF.\n",
    "</div>\n"
   ]
  },
  {
   "cell_type": "code",
   "execution_count": null,
   "id": "9c3e1b71",
   "metadata": {},
   "outputs": [],
   "source": [
    "from ecmwf.jupyter_components.jupyter_forms import DssDownloadForm\n",
    "\n",
    "download_form = DssDownloadForm()"
   ]
  },
  {
   "cell_type": "code",
   "execution_count": null,
   "id": "e0bdeb0d",
   "metadata": {},
   "outputs": [],
   "source": [
    "download_form.collection_id, download_form.request"
   ]
  },
  {
   "cell_type": "markdown",
   "id": "afa71650",
   "metadata": {},
   "source": [
    "## Use earthkit to access the data"
   ]
  },
  {
   "cell_type": "markdown",
   "id": "b1906dc7",
   "metadata": {},
   "source": [
    "We can use this request selection to access the data with Earthkit and load into our interactive session. Below we make the data request and \"describe\" the object that we have downloaded."
   ]
  },
  {
   "cell_type": "code",
   "execution_count": null,
   "id": "bbfb5813",
   "metadata": {},
   "outputs": [],
   "source": [
    "from earthkit import data as ek_d\n",
    "\n",
    "eds = ek_d.from_source(\"cds\", download_form.collection_id, download_form.request)\n",
    "\n",
    "eds.describe()"
   ]
  },
  {
   "cell_type": "markdown",
   "id": "66c80288",
   "metadata": {},
   "source": [
    "We can use earthkit to convert the data to an xarray object we try with default options, and if that fails we try with an alternative `time_dim_mode='valid_time'`. Modifying the `time_dim_mode` is useful for opening grib data where the time dimensions may not produce a complete hypercube. Note that this may not work every dataset available accross the Data Store Service (DSS)."
   ]
  },
  {
   "cell_type": "code",
   "execution_count": null,
   "id": "e7ee8d28",
   "metadata": {},
   "outputs": [],
   "source": [
    "try:\n",
    "    xr_ds = eds.to_xarray()\n",
    "except ValueError:\n",
    "    xr_ds = eds.to_xarray(time_dim_mode=\"valid_time\")\n",
    "xr_ds"
   ]
  },
  {
   "cell_type": "code",
   "execution_count": null,
   "id": "9cfeea8f",
   "metadata": {},
   "outputs": [],
   "source": [
    "colls = [\n",
    "    coll.collection_ids for coll in download_form.client.get_collections(limit=50)\n",
    "]\n",
    "colls"
   ]
  },
  {
   "cell_type": "code",
   "execution_count": null,
   "id": "60b31bbb",
   "metadata": {},
   "outputs": [],
   "source": [
    "colls = download_form.client.get_collections()\n",
    "colls"
   ]
  },
  {
   "cell_type": "code",
   "execution_count": null,
   "id": "237f8378",
   "metadata": {},
   "outputs": [],
   "source": [
    "colls = cdsapi.Client().client.get_collections()\n",
    "collection_ids = []\n",
    "while colls is not None:\n",
    "    collection_ids += colls.collection_ids\n",
    "    colls = colls.next"
   ]
  },
  {
   "cell_type": "code",
   "execution_count": null,
   "id": "213cdf37",
   "metadata": {},
   "outputs": [],
   "source": [
    "dir(colls)"
   ]
  },
  {
   "cell_type": "code",
   "execution_count": null,
   "id": "d98ae4cd",
   "metadata": {},
   "outputs": [],
   "source": [
    "colls.next.next.collection_ids"
   ]
  },
  {
   "cell_type": "code",
   "execution_count": null,
   "id": "978875ac",
   "metadata": {},
   "outputs": [],
   "source": []
  }
 ],
 "metadata": {
  "kernelspec": {
   "display_name": "EARTHKIT-clean",
   "language": "python",
   "name": "python3"
  },
  "language_info": {
   "codemirror_mode": {
    "name": "ipython",
    "version": 3
   },
   "file_extension": ".py",
   "mimetype": "text/x-python",
   "name": "python",
   "nbconvert_exporter": "python",
   "pygments_lexer": "ipython3",
   "version": "3.12.10"
  }
 },
 "nbformat": 4,
 "nbformat_minor": 5
}
