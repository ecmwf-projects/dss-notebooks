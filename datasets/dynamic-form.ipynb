{
 "cells": [
  {
   "cell_type": "markdown",
   "id": "adab3299",
   "metadata": {},
   "source": [
    "# The DSS Jupyter Form"
   ]
  },
  {
   "cell_type": "markdown",
   "id": "a8754a26",
   "metadata": {},
   "source": [
    "Please execute the box below to create the universal download form. You can then make a selection and then request the data by exectuing the code cell below that.\n",
    "\n",
    "<div class=\"alert alert-block alert-warning\">\n",
    "<b>Prototype:</b> This is using a very new package which is not yet fully supported by ECMWF.\n",
    "</div>\n"
   ]
  },
  {
   "cell_type": "code",
   "execution_count": null,
   "id": "9c3e1b71",
   "metadata": {},
   "outputs": [],
   "source": [
    "!pip install -q ecmwf-jupyter-components\n",
    "from ecmwf.jupyter_components.jupyter_forms import DssDownloadForm\n",
    "\n",
    "download_form = DssDownloadForm()"
   ]
  },
  {
   "cell_type": "code",
   "execution_count": null,
   "id": "e0bdeb0d",
   "metadata": {},
   "outputs": [],
   "source": [
    "download_form.collection_id, download_form.request"
   ]
  },
  {
   "cell_type": "markdown",
   "id": "afa71650",
   "metadata": {},
   "source": [
    "## Access the data with earthkit"
   ]
  },
  {
   "cell_type": "markdown",
   "id": "b1906dc7",
   "metadata": {},
   "source": [
    "We can use this request selection to access the data with Earthkit and load into our interactive session. Below we convert the data to an xarray object with default options, note that this may not work every dataset available accross the Data Store Service (DSS)."
   ]
  },
  {
   "cell_type": "code",
   "execution_count": null,
   "id": "bbfb5813",
   "metadata": {},
   "outputs": [],
   "source": [
    "from earthkit import data as ek_d\n",
    "\n",
    "eds = ek_d.from_source(\"cds\", download_form.collection_id, download_form.request)\n",
    "\n",
    "eds.to_xarray()"
   ]
  },
  {
   "cell_type": "code",
   "execution_count": null,
   "id": "cfd815e6",
   "metadata": {},
   "outputs": [],
   "source": []
  }
 ],
 "metadata": {
  "kernelspec": {
   "display_name": "EARTHKIT",
   "language": "python",
   "name": "python3"
  },
  "language_info": {
   "codemirror_mode": {
    "name": "ipython",
    "version": 3
   },
   "file_extension": ".py",
   "mimetype": "text/x-python",
   "name": "python",
   "nbconvert_exporter": "python",
   "pygments_lexer": "ipython3",
   "version": "3.12.10"
  }
 },
 "nbformat": 4,
 "nbformat_minor": 5
}
