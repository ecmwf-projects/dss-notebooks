{
 "cells": [
  {
   "cell_type": "code",
   "execution_count": 1,
   "id": "9c3e1b71",
   "metadata": {},
   "outputs": [
    {
     "name": "stderr",
     "output_type": "stream",
     "text": [
      "[2024-06-16T00:00:00] CDS API syntax is changed and some keys or parameter names may have also changed. To avoid requests failing, please use the \"Show API request code\" tool on the dataset Download Form to check you are using the correct syntax for your API request.\n"
     ]
    },
    {
     "data": {
      "application/vnd.jupyter.widget-view+json": {
       "model_id": "fd35915f37c04ad6b76de2a979a70dcd",
       "version_major": 2,
       "version_minor": 0
      },
      "text/plain": [
       "Output()"
      ]
     },
     "metadata": {},
     "output_type": "display_data"
    }
   ],
   "source": [
    "import datapi\n",
    "from dynamic_form.dynamic_form import build_collection_form, widgets_to_request\n",
    "\n",
    "client = datapi.ApiClient()\n",
    "\n",
    "# Build the form with an external selection store\n",
    "user_selection = build_collection_form(client)"
   ]
  },
  {
   "cell_type": "code",
   "execution_count": 2,
   "id": "131ede47",
   "metadata": {},
   "outputs": [
    {
     "name": "stdout",
     "output_type": "stream",
     "text": [
      "Collection: reanalysis-era5-land-monthly-means\n",
      "Request: {}\n"
     ]
    }
   ],
   "source": [
    "collection, request = widgets_to_request(user_selection)\n",
    "print(\"Collection:\", collection)\n",
    "print(\"Request:\", request)"
   ]
  },
  {
   "cell_type": "code",
   "execution_count": null,
   "id": "6531363c",
   "metadata": {},
   "outputs": [
    {
     "data": {
      "text/plain": [
       "{}"
      ]
     },
     "execution_count": 3,
     "metadata": {},
     "output_type": "execute_result"
    }
   ],
   "source": [
    "request = {\n",
    "    k: list(v.value) for k, v in widget_defs.items() if v.value\n",
    "}\n",
    "request"
   ]
  },
  {
   "cell_type": "code",
   "execution_count": null,
   "id": "0c63bf2f",
   "metadata": {},
   "outputs": [],
   "source": []
  }
 ],
 "metadata": {
  "kernelspec": {
   "display_name": "EARTHKIT",
   "language": "python",
   "name": "python3"
  },
  "language_info": {
   "codemirror_mode": {
    "name": "ipython",
    "version": 3
   },
   "file_extension": ".py",
   "mimetype": "text/x-python",
   "name": "python",
   "nbconvert_exporter": "python",
   "pygments_lexer": "ipython3",
   "version": "3.12.10"
  }
 },
 "nbformat": 4,
 "nbformat_minor": 5
}
