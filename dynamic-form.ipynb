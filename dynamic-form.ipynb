{
 "cells": [
  {
   "cell_type": "code",
   "execution_count": 1,
   "id": "9c3e1b71",
   "metadata": {},
   "outputs": [
    {
     "name": "stderr",
     "output_type": "stream",
     "text": [
      "[2024-06-16T00:00:00] CDS API syntax is changed and some keys or parameter names may have also changed. To avoid requests failing, please use the \"Show API request code\" tool on the dataset Download Form to check you are using the correct syntax for your API request.\n"
     ]
    },
    {
     "data": {
      "application/vnd.jupyter.widget-view+json": {
       "model_id": "099f69ac353243f4a40629e58f06750c",
       "version_major": 2,
       "version_minor": 0
      },
      "text/plain": [
       "Output()"
      ]
     },
     "metadata": {},
     "output_type": "display_data"
    }
   ],
   "source": [
    "import datapi\n",
    "from dynamic_form.dynamic_form import build_collection_form, widgets_to_request\n",
    "\n",
    "client = datapi.ApiClient()\n",
    "# Build the form with an external selection store\n",
    "collection_widget, form_widgets = build_collection_form(client)"
   ]
  },
  {
   "cell_type": "code",
   "execution_count": 2,
   "id": "131ede47",
   "metadata": {},
   "outputs": [
    {
     "name": "stdout",
     "output_type": "stream",
     "text": [
      "Collection: derived-era5-land-daily-statistics\n",
      "Request: {}\n"
     ]
    }
   ],
   "source": [
    "collection, request = widgets_to_request(collection_widget, form_widgets)\n",
    "print(\"Collection:\", collection)\n",
    "print(\"Request:\", request)"
   ]
  },
  {
   "cell_type": "code",
   "execution_count": 3,
   "id": "0c63bf2f",
   "metadata": {},
   "outputs": [
    {
     "data": {
      "text/plain": [
       "()"
      ]
     },
     "execution_count": 3,
     "metadata": {},
     "output_type": "execute_result"
    }
   ],
   "source": [
    "form_widgets['variable'].value"
   ]
  },
  {
   "cell_type": "code",
   "execution_count": 4,
   "id": "e15eeeae",
   "metadata": {},
   "outputs": [
    {
     "ename": "NameError",
     "evalue": "name 'user_selection' is not defined",
     "output_type": "error",
     "traceback": [
      "\u001b[0;31m---------------------------------------------------------------------------\u001b[0m",
      "\u001b[0;31mNameError\u001b[0m                                 Traceback (most recent call last)",
      "Cell \u001b[0;32mIn[4], line 2\u001b[0m\n\u001b[1;32m      1\u001b[0m request \u001b[38;5;241m=\u001b[39m {\n\u001b[0;32m----> 2\u001b[0m     key: \u001b[38;5;28mlist\u001b[39m(widget\u001b[38;5;241m.\u001b[39mvalue) \u001b[38;5;28;01mfor\u001b[39;00m key, widget \u001b[38;5;129;01min\u001b[39;00m \u001b[43muser_selection\u001b[49m[\u001b[38;5;241m1\u001b[39m]\u001b[38;5;241m.\u001b[39mitems() \u001b[38;5;28;01mif\u001b[39;00m widget\u001b[38;5;241m.\u001b[39mvalue\n\u001b[1;32m      3\u001b[0m }\n\u001b[1;32m      4\u001b[0m \u001b[38;5;66;03m# for key, values in request.items():\u001b[39;00m\n\u001b[1;32m      5\u001b[0m \u001b[38;5;66;03m#     if len(values) == 1:\u001b[39;00m\n\u001b[1;32m      6\u001b[0m \u001b[38;5;66;03m#         request[key] = values[0]\u001b[39;00m\n",
      "\u001b[0;31mNameError\u001b[0m: name 'user_selection' is not defined"
     ]
    }
   ],
   "source": [
    "\n",
    "request = {\n",
    "    key: list(widget.value) for key, widget in user_selection[1].items() if widget.value\n",
    "}\n",
    "# for key, values in request.items():\n",
    "#     if len(values) == 1:\n",
    "#         request[key] = values[0]\n"
   ]
  },
  {
   "cell_type": "code",
   "execution_count": null,
   "id": "3326c841",
   "metadata": {},
   "outputs": [
    {
     "data": {
      "text/plain": [
       "{}"
      ]
     },
     "execution_count": 11,
     "metadata": {},
     "output_type": "execute_result"
    }
   ],
   "source": [
    "request"
   ]
  },
  {
   "cell_type": "code",
   "execution_count": null,
   "id": "0539d91f",
   "metadata": {},
   "outputs": [
    {
     "data": {
      "text/plain": [
       "[]"
      ]
     },
     "execution_count": 16,
     "metadata": {},
     "output_type": "execute_result"
    }
   ],
   "source": [
    "list(user_selection[1]['variable'].value)"
   ]
  },
  {
   "cell_type": "code",
   "execution_count": null,
   "id": "d85ac6ec",
   "metadata": {},
   "outputs": [],
   "source": []
  }
 ],
 "metadata": {
  "kernelspec": {
   "display_name": "EARTHKIT",
   "language": "python",
   "name": "python3"
  },
  "language_info": {
   "codemirror_mode": {
    "name": "ipython",
    "version": 3
   },
   "file_extension": ".py",
   "mimetype": "text/x-python",
   "name": "python",
   "nbconvert_exporter": "python",
   "pygments_lexer": "ipython3",
   "version": "3.12.10"
  }
 },
 "nbformat": 4,
 "nbformat_minor": 5
}
