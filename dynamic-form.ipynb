{
 "cells": [
  {
   "cell_type": "code",
   "execution_count": 1,
   "id": "9c3e1b71",
   "metadata": {},
   "outputs": [
    {
     "name": "stderr",
     "output_type": "stream",
     "text": [
      "[2024-06-16T00:00:00] CDS API syntax is changed and some keys or parameter names may have also changed. To avoid requests failing, please use the \"Show API request code\" tool on the dataset Download Form to check you are using the correct syntax for your API request.\n"
     ]
    },
    {
     "data": {
      "application/vnd.jupyter.widget-view+json": {
       "model_id": "f3c95124106846a7841078f09e9acc0c",
       "version_major": 2,
       "version_minor": 0
      },
      "text/plain": [
       "Output()"
      ]
     },
     "metadata": {},
     "output_type": "display_data"
    }
   ],
   "source": [
    "import datapi\n",
    "from dynamic_form.dynamic_form import build_collection_form, widgets_to_request\n",
    "\n",
    "client = datapi.ApiClient()\n",
    "# Build the form with an external selection store\n",
    "collection_widget, form_widgets = build_collection_form(client)"
   ]
  },
  {
   "cell_type": "code",
   "execution_count": 2,
   "id": "131ede47",
   "metadata": {},
   "outputs": [
    {
     "name": "stdout",
     "output_type": "stream",
     "text": [
      "Collection: derived-era5-land-daily-statistics\n",
      "Request: {'variable': ['soil_temperature_level_3', 'lake_shape_factor', '10m_v_component_of_wind'], 'year': '2008', 'month': '02', 'day': '01', 'daily_statistic': 'daily_minimum', 'time_zone': 'utc+00:00', 'frequency': '1_hourly'}\n"
     ]
    }
   ],
   "source": [
    "collection, request = widgets_to_request(collection_widget, form_widgets)\n",
    "print(\"Collection:\", collection)\n",
    "print(\"Request:\", request)"
   ]
  },
  {
   "cell_type": "code",
   "execution_count": null,
   "id": "0c63bf2f",
   "metadata": {},
   "outputs": [
    {
     "data": {
      "text/plain": [
       "{'variable': '',\n",
       " 'year': '',\n",
       " 'month': '',\n",
       " 'day': '',\n",
       " 'daily_statistic': '',\n",
       " 'time_zone': '',\n",
       " 'frequency': ''}"
      ]
     },
     "execution_count": 3,
     "metadata": {},
     "output_type": "execute_result"
    }
   ],
   "source": [
    "{k: v.value for k, v in form_widgets.items()}"
   ]
  },
  {
   "cell_type": "code",
   "execution_count": null,
   "id": "e15eeeae",
   "metadata": {},
   "outputs": [
    {
     "data": {
      "text/plain": [
       "{'_dom_classes': <ipywidgets.widgets.trait_types.TypedTuple at 0x1059facc0>,\n",
       " '_model_module': <traitlets.traitlets.Unicode at 0x1059fba40>,\n",
       " '_model_module_version': <traitlets.traitlets.Unicode at 0x105a68800>,\n",
       " '_model_name': <traitlets.traitlets.Unicode at 0x105ae0fe0>,\n",
       " '_msg_callbacks': <traitlets.traitlets.Instance at 0x105a0a510>,\n",
       " '_property_lock': <traitlets.traitlets.Dict at 0x105a0a4b0>,\n",
       " '_states_to_send': <traitlets.traitlets.Set at 0x105a0a4e0>,\n",
       " '_view_count': <traitlets.traitlets.Int at 0x105a0a3c0>,\n",
       " '_view_module': <traitlets.traitlets.Unicode at 0x105a686b0>,\n",
       " '_view_module_version': <traitlets.traitlets.Unicode at 0x105a68830>,\n",
       " '_view_name': <traitlets.traitlets.Unicode at 0x105ae1010>,\n",
       " 'comm': <traitlets.traitlets.Any at 0x105a0a3f0>,\n",
       " 'continuous_update': <traitlets.traitlets.Bool at 0x105ae0e30>,\n",
       " 'description': <traitlets.traitlets.Unicode at 0x1059fb860>,\n",
       " 'description_allow_html': <traitlets.traitlets.Bool at 0x105a68f80>,\n",
       " 'disabled': <traitlets.traitlets.Bool at 0x105ae0dd0>,\n",
       " 'ensure_option': <traitlets.traitlets.Bool at 0x105ae10a0>,\n",
       " 'keys': <traitlets.traitlets.List at 0x105a0a420>,\n",
       " 'layout': <ipywidgets.widgets.trait_types.InstanceDict at 0x10536a5a0>,\n",
       " 'log': <traitlets.traitlets.Instance at 0x1059bfad0>,\n",
       " 'options': <ipywidgets.widgets.trait_types.TypedTuple at 0x105ae1070>,\n",
       " 'placeholder': <traitlets.traitlets.Unicode at 0x105ae0950>,\n",
       " 'style': <ipywidgets.widgets.trait_types.InstanceDict at 0x105ae0e60>,\n",
       " 'tabbable': <traitlets.traitlets.Bool at 0x1059fb410>,\n",
       " 'tooltip': <traitlets.traitlets.Unicode at 0x105936780>,\n",
       " 'value': <traitlets.traitlets.Unicode at 0x105ae0920>}"
      ]
     },
     "execution_count": 4,
     "metadata": {},
     "output_type": "execute_result"
    }
   ],
   "source": [
    "form_widgets['variable'].traits()"
   ]
  },
  {
   "cell_type": "code",
   "execution_count": null,
   "id": "3326c841",
   "metadata": {},
   "outputs": [
    {
     "data": {
      "text/plain": [
       "{}"
      ]
     },
     "execution_count": 5,
     "metadata": {},
     "output_type": "execute_result"
    }
   ],
   "source": [
    "request"
   ]
  },
  {
   "cell_type": "code",
   "execution_count": null,
   "id": "0539d91f",
   "metadata": {},
   "outputs": [
    {
     "ename": "NameError",
     "evalue": "name 'user_selection' is not defined",
     "output_type": "error",
     "traceback": [
      "\u001b[0;31m---------------------------------------------------------------------------\u001b[0m",
      "\u001b[0;31mNameError\u001b[0m                                 Traceback (most recent call last)",
      "Cell \u001b[0;32mIn[6], line 1\u001b[0m\n\u001b[0;32m----> 1\u001b[0m \u001b[38;5;28mlist\u001b[39m(\u001b[43muser_selection\u001b[49m[\u001b[38;5;241m1\u001b[39m][\u001b[38;5;124m'\u001b[39m\u001b[38;5;124mvariable\u001b[39m\u001b[38;5;124m'\u001b[39m]\u001b[38;5;241m.\u001b[39mvalue)\n",
      "\u001b[0;31mNameError\u001b[0m: name 'user_selection' is not defined"
     ]
    }
   ],
   "source": [
    "list(user_selection[1]['variable'].value)"
   ]
  },
  {
   "cell_type": "code",
   "execution_count": null,
   "id": "d85ac6ec",
   "metadata": {},
   "outputs": [],
   "source": []
  }
 ],
 "metadata": {
  "kernelspec": {
   "display_name": "EARTHKIT",
   "language": "python",
   "name": "python3"
  },
  "language_info": {
   "codemirror_mode": {
    "name": "ipython",
    "version": 3
   },
   "file_extension": ".py",
   "mimetype": "text/x-python",
   "name": "python",
   "nbconvert_exporter": "python",
   "pygments_lexer": "ipython3",
   "version": "3.12.10"
  }
 },
 "nbformat": 4,
 "nbformat_minor": 5
}
