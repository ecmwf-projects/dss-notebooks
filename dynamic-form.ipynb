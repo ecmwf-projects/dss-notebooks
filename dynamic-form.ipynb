{
 "cells": [
  {
   "cell_type": "markdown",
   "id": "adab3299",
   "metadata": {},
   "source": [
    "# Da Dat Form Dare"
   ]
  },
  {
   "cell_type": "markdown",
   "id": "a8754a26",
   "metadata": {},
   "source": [
    "Please select execute the box below to create the universal download form. You can then make a selection and then request the data by exectuing the code cell below that."
   ]
  },
  {
   "cell_type": "code",
   "execution_count": null,
   "id": "9c3e1b71",
   "metadata": {},
   "outputs": [
    {
     "name": "stderr",
     "output_type": "stream",
     "text": [
      "[2024-06-16T00:00:00] CDS API syntax is changed and some keys or parameter names may have also changed. To avoid requests failing, please use the \"Show API request code\" tool on the dataset Download Form to check you are using the correct syntax for your API request.\n"
     ]
    },
    {
     "data": {
      "application/vnd.jupyter.widget-view+json": {
       "model_id": "99b8adc8e5f94c4a8ef3460254ba4e80",
       "version_major": 2,
       "version_minor": 0
      },
      "text/plain": [
       "Output()"
      ]
     },
     "metadata": {},
     "output_type": "display_data"
    }
   ],
   "source": [
    "import datapi\n",
    "from dynamic_form.dynamic_form import build_collection_form, widgets_to_request\n",
    "\n",
    "client = datapi.ApiClient()\n",
    "# Build the form with an external selection store\n",
    "collection_widget, widget_defs = build_collection_form(client)"
   ]
  },
  {
   "cell_type": "code",
   "execution_count": 2,
   "id": "131ede47",
   "metadata": {},
   "outputs": [
    {
     "name": "stdout",
     "output_type": "stream",
     "text": [
      "Downloding data from the: ERA5-Land post-processed daily statistics from 1950 to present catalogue entry\n",
      "{'daily_statistic': 'daily_mean', 'time_zone': 'utc+00:00'}\n"
     ]
    }
   ],
   "source": [
    "collection_id, request = widgets_to_request(collection_widget, widget_defs)\n",
    "\n",
    "collection = client.get_collection(collection_id)\n",
    "\n",
    "print(f\"Downloding data from the: {collection.title} catalogue entry\\n{request}\")\n",
    "\n",
    "# collection.submit(request).download()"
   ]
  },
  {
   "cell_type": "code",
   "execution_count": null,
   "id": "3b0c55a6",
   "metadata": {},
   "outputs": [
    {
     "data": {
      "text/plain": [
       "[]"
      ]
     },
     "execution_count": 7,
     "metadata": {},
     "output_type": "execute_result"
    }
   ],
   "source": [
    "widget_defs[\"year\"]._get_value()"
   ]
  },
  {
   "cell_type": "code",
   "execution_count": null,
   "id": "e15eeeae",
   "metadata": {},
   "outputs": [
    {
     "data": {
      "text/plain": [
       "dict_keys(['variable', 'year', 'month', 'day', 'daily_statistic', 'time_zone', 'frequency'])"
      ]
     },
     "execution_count": 8,
     "metadata": {},
     "output_type": "execute_result"
    }
   ],
   "source": [
    "widget_defs.keys()"
   ]
  },
  {
   "cell_type": "code",
   "execution_count": null,
   "id": "3326c841",
   "metadata": {},
   "outputs": [
    {
     "data": {
      "text/plain": [
       "{}"
      ]
     },
     "execution_count": 5,
     "metadata": {},
     "output_type": "execute_result"
    }
   ],
   "source": [
    "request"
   ]
  },
  {
   "cell_type": "code",
   "execution_count": null,
   "id": "0539d91f",
   "metadata": {},
   "outputs": [
    {
     "ename": "NameError",
     "evalue": "name 'user_selection' is not defined",
     "output_type": "error",
     "traceback": [
      "\u001b[0;31m---------------------------------------------------------------------------\u001b[0m",
      "\u001b[0;31mNameError\u001b[0m                                 Traceback (most recent call last)",
      "Cell \u001b[0;32mIn[6], line 1\u001b[0m\n\u001b[0;32m----> 1\u001b[0m \u001b[38;5;28mlist\u001b[39m(\u001b[43muser_selection\u001b[49m[\u001b[38;5;241m1\u001b[39m][\u001b[38;5;124m'\u001b[39m\u001b[38;5;124mvariable\u001b[39m\u001b[38;5;124m'\u001b[39m]\u001b[38;5;241m.\u001b[39mvalue)\n",
      "\u001b[0;31mNameError\u001b[0m: name 'user_selection' is not defined"
     ]
    }
   ],
   "source": [
    "list(user_selection[1]['variable'].value)"
   ]
  },
  {
   "cell_type": "code",
   "execution_count": null,
   "id": "d85ac6ec",
   "metadata": {},
   "outputs": [],
   "source": []
  }
 ],
 "metadata": {
  "kernelspec": {
   "display_name": "EARTHKIT",
   "language": "python",
   "name": "python3"
  },
  "language_info": {
   "codemirror_mode": {
    "name": "ipython",
    "version": 3
   },
   "file_extension": ".py",
   "mimetype": "text/x-python",
   "name": "python",
   "nbconvert_exporter": "python",
   "pygments_lexer": "ipython3",
   "version": "3.12.10"
  }
 },
 "nbformat": 4,
 "nbformat_minor": 5
}
